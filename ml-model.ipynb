{
 "cells": [
  {
   "cell_type": "code",
   "execution_count": 2,
   "metadata": {},
   "outputs": [],
   "source": [
    "import pandas as pd\n",
    "import ast\n",
    "import numpy as np\n",
    "from sklearn.feature_extraction.text import TfidfVectorizer\n",
    "from sklearn.metrics.pairwise import cosine_similarity\n",
    "from sklearn.decomposition import TruncatedSVD"
   ]
  },
  {
   "cell_type": "code",
   "execution_count": 24,
   "metadata": {},
   "outputs": [],
   "source": [
    "path = 'data/csv/df_games_cl.csv'\n",
    "\n",
    "df = pd.read_csv(path)"
   ]
  },
  {
   "cell_type": "code",
   "execution_count": 25,
   "metadata": {},
   "outputs": [
    {
     "data": {
      "text/html": [
       "<div>\n",
       "<style scoped>\n",
       "    .dataframe tbody tr th:only-of-type {\n",
       "        vertical-align: middle;\n",
       "    }\n",
       "\n",
       "    .dataframe tbody tr th {\n",
       "        vertical-align: top;\n",
       "    }\n",
       "\n",
       "    .dataframe thead th {\n",
       "        text-align: right;\n",
       "    }\n",
       "</style>\n",
       "<table border=\"1\" class=\"dataframe\">\n",
       "  <thead>\n",
       "    <tr style=\"text-align: right;\">\n",
       "      <th></th>\n",
       "      <th>id</th>\n",
       "      <th>app_name</th>\n",
       "    </tr>\n",
       "  </thead>\n",
       "  <tbody>\n",
       "    <tr>\n",
       "      <th>0</th>\n",
       "      <td>761140</td>\n",
       "      <td>Lost Summoner Kitty</td>\n",
       "    </tr>\n",
       "    <tr>\n",
       "      <th>1</th>\n",
       "      <td>643980</td>\n",
       "      <td>Ironbound</td>\n",
       "    </tr>\n",
       "    <tr>\n",
       "      <th>2</th>\n",
       "      <td>670290</td>\n",
       "      <td>Real Pool 3D - Poolians</td>\n",
       "    </tr>\n",
       "    <tr>\n",
       "      <th>3</th>\n",
       "      <td>767400</td>\n",
       "      <td>弹炸人2222</td>\n",
       "    </tr>\n",
       "    <tr>\n",
       "      <th>4</th>\n",
       "      <td>773570</td>\n",
       "      <td>Log Challenge</td>\n",
       "    </tr>\n",
       "    <tr>\n",
       "      <th>...</th>\n",
       "      <td>...</td>\n",
       "      <td>...</td>\n",
       "    </tr>\n",
       "    <tr>\n",
       "      <th>32127</th>\n",
       "      <td>773640</td>\n",
       "      <td>Colony On Mars</td>\n",
       "    </tr>\n",
       "    <tr>\n",
       "      <th>32128</th>\n",
       "      <td>733530</td>\n",
       "      <td>LOGistICAL: South Africa</td>\n",
       "    </tr>\n",
       "    <tr>\n",
       "      <th>32129</th>\n",
       "      <td>610660</td>\n",
       "      <td>Russian Roads</td>\n",
       "    </tr>\n",
       "    <tr>\n",
       "      <th>32130</th>\n",
       "      <td>658870</td>\n",
       "      <td>EXIT 2 - Directions</td>\n",
       "    </tr>\n",
       "    <tr>\n",
       "      <th>32131</th>\n",
       "      <td>681550</td>\n",
       "      <td>Maze Run VR</td>\n",
       "    </tr>\n",
       "  </tbody>\n",
       "</table>\n",
       "<p>32132 rows × 2 columns</p>\n",
       "</div>"
      ],
      "text/plain": [
       "           id                  app_name\n",
       "0      761140       Lost Summoner Kitty\n",
       "1      643980                 Ironbound\n",
       "2      670290   Real Pool 3D - Poolians\n",
       "3      767400                   弹炸人2222\n",
       "4      773570             Log Challenge\n",
       "...       ...                       ...\n",
       "32127  773640            Colony On Mars\n",
       "32128  733530  LOGistICAL: South Africa\n",
       "32129  610660             Russian Roads\n",
       "32130  658870       EXIT 2 - Directions\n",
       "32131  681550               Maze Run VR\n",
       "\n",
       "[32132 rows x 2 columns]"
      ]
     },
     "execution_count": 25,
     "metadata": {},
     "output_type": "execute_result"
    }
   ],
   "source": [
    "df_model = df[['id', 'app_name']]\n",
    "df_model"
   ]
  },
  {
   "cell_type": "code",
   "execution_count": 26,
   "metadata": {},
   "outputs": [],
   "source": [
    "df_model.to_csv('df_model.csv', index=False)"
   ]
  },
  {
   "cell_type": "code",
   "execution_count": 3,
   "metadata": {},
   "outputs": [
    {
     "data": {
      "text/html": [
       "<div>\n",
       "<style scoped>\n",
       "    .dataframe tbody tr th:only-of-type {\n",
       "        vertical-align: middle;\n",
       "    }\n",
       "\n",
       "    .dataframe tbody tr th {\n",
       "        vertical-align: top;\n",
       "    }\n",
       "\n",
       "    .dataframe thead th {\n",
       "        text-align: right;\n",
       "    }\n",
       "</style>\n",
       "<table border=\"1\" class=\"dataframe\">\n",
       "  <thead>\n",
       "    <tr style=\"text-align: right;\">\n",
       "      <th></th>\n",
       "      <th>app_name</th>\n",
       "      <th>genres</th>\n",
       "      <th>tags</th>\n",
       "      <th>specs</th>\n",
       "      <th>developer</th>\n",
       "      <th>price</th>\n",
       "      <th>early_access</th>\n",
       "    </tr>\n",
       "  </thead>\n",
       "  <tbody>\n",
       "    <tr>\n",
       "      <th>0</th>\n",
       "      <td>Lost Summoner Kitty</td>\n",
       "      <td>['Action', 'Casual', 'Indie', 'Simulation', 'S...</td>\n",
       "      <td>['Strategy', 'Action', 'Indie', 'Casual', 'Sim...</td>\n",
       "      <td>['Single-player']</td>\n",
       "      <td>Kotoshiro</td>\n",
       "      <td>4.99</td>\n",
       "      <td>False</td>\n",
       "    </tr>\n",
       "    <tr>\n",
       "      <th>1</th>\n",
       "      <td>Ironbound</td>\n",
       "      <td>['Free to Play', 'Indie', 'RPG', 'Strategy']</td>\n",
       "      <td>['Free to Play', 'Strategy', 'Indie', 'RPG', '...</td>\n",
       "      <td>['Single-player', 'Multi-player', 'Online Mult...</td>\n",
       "      <td>Secret Level SRL</td>\n",
       "      <td>0.00</td>\n",
       "      <td>False</td>\n",
       "    </tr>\n",
       "    <tr>\n",
       "      <th>2</th>\n",
       "      <td>Real Pool 3D - Poolians</td>\n",
       "      <td>['Casual', 'Free to Play', 'Indie', 'Simulatio...</td>\n",
       "      <td>['Free to Play', 'Simulation', 'Sports', 'Casu...</td>\n",
       "      <td>['Single-player', 'Multi-player', 'Online Mult...</td>\n",
       "      <td>Poolians.com</td>\n",
       "      <td>0.00</td>\n",
       "      <td>False</td>\n",
       "    </tr>\n",
       "    <tr>\n",
       "      <th>3</th>\n",
       "      <td>弹炸人2222</td>\n",
       "      <td>['Action', 'Adventure', 'Casual']</td>\n",
       "      <td>['Action', 'Adventure', 'Casual']</td>\n",
       "      <td>['Single-player']</td>\n",
       "      <td>彼岸领域</td>\n",
       "      <td>0.99</td>\n",
       "      <td>False</td>\n",
       "    </tr>\n",
       "    <tr>\n",
       "      <th>4</th>\n",
       "      <td>Log Challenge</td>\n",
       "      <td>No data</td>\n",
       "      <td>['Action', 'Indie', 'Casual', 'Sports']</td>\n",
       "      <td>['Single-player', 'Full controller support', '...</td>\n",
       "      <td>No data</td>\n",
       "      <td>2.99</td>\n",
       "      <td>False</td>\n",
       "    </tr>\n",
       "    <tr>\n",
       "      <th>...</th>\n",
       "      <td>...</td>\n",
       "      <td>...</td>\n",
       "      <td>...</td>\n",
       "      <td>...</td>\n",
       "      <td>...</td>\n",
       "      <td>...</td>\n",
       "      <td>...</td>\n",
       "    </tr>\n",
       "    <tr>\n",
       "      <th>32127</th>\n",
       "      <td>Colony On Mars</td>\n",
       "      <td>['Casual', 'Indie', 'Simulation', 'Strategy']</td>\n",
       "      <td>['Strategy', 'Indie', 'Casual', 'Simulation']</td>\n",
       "      <td>['Single-player', 'Steam Achievements']</td>\n",
       "      <td>Nikita \"Ghost_RUS\"</td>\n",
       "      <td>1.99</td>\n",
       "      <td>False</td>\n",
       "    </tr>\n",
       "    <tr>\n",
       "      <th>32128</th>\n",
       "      <td>LOGistICAL: South Africa</td>\n",
       "      <td>['Casual', 'Indie', 'Strategy']</td>\n",
       "      <td>['Strategy', 'Indie', 'Casual']</td>\n",
       "      <td>['Single-player', 'Steam Achievements', 'Steam...</td>\n",
       "      <td>Sacada</td>\n",
       "      <td>4.99</td>\n",
       "      <td>False</td>\n",
       "    </tr>\n",
       "    <tr>\n",
       "      <th>32129</th>\n",
       "      <td>Russian Roads</td>\n",
       "      <td>['Indie', 'Racing', 'Simulation']</td>\n",
       "      <td>['Indie', 'Simulation', 'Racing']</td>\n",
       "      <td>['Single-player', 'Steam Achievements', 'Steam...</td>\n",
       "      <td>Laush Dmitriy Sergeevich</td>\n",
       "      <td>1.99</td>\n",
       "      <td>False</td>\n",
       "    </tr>\n",
       "    <tr>\n",
       "      <th>32130</th>\n",
       "      <td>EXIT 2 - Directions</td>\n",
       "      <td>['Casual', 'Indie']</td>\n",
       "      <td>['Indie', 'Casual', 'Puzzle', 'Singleplayer', ...</td>\n",
       "      <td>['Single-player', 'Steam Achievements', 'Steam...</td>\n",
       "      <td>xropi,stev3ns</td>\n",
       "      <td>4.99</td>\n",
       "      <td>False</td>\n",
       "    </tr>\n",
       "    <tr>\n",
       "      <th>32131</th>\n",
       "      <td>Maze Run VR</td>\n",
       "      <td>No data</td>\n",
       "      <td>['Early Access', 'Adventure', 'Indie', 'Action...</td>\n",
       "      <td>['Single-player', 'Stats', 'Steam Leaderboards...</td>\n",
       "      <td>No data</td>\n",
       "      <td>4.99</td>\n",
       "      <td>True</td>\n",
       "    </tr>\n",
       "  </tbody>\n",
       "</table>\n",
       "<p>32132 rows × 7 columns</p>\n",
       "</div>"
      ],
      "text/plain": [
       "                       app_name  \\\n",
       "0           Lost Summoner Kitty   \n",
       "1                     Ironbound   \n",
       "2       Real Pool 3D - Poolians   \n",
       "3                       弹炸人2222   \n",
       "4                 Log Challenge   \n",
       "...                         ...   \n",
       "32127            Colony On Mars   \n",
       "32128  LOGistICAL: South Africa   \n",
       "32129             Russian Roads   \n",
       "32130       EXIT 2 - Directions   \n",
       "32131               Maze Run VR   \n",
       "\n",
       "                                                  genres  \\\n",
       "0      ['Action', 'Casual', 'Indie', 'Simulation', 'S...   \n",
       "1           ['Free to Play', 'Indie', 'RPG', 'Strategy']   \n",
       "2      ['Casual', 'Free to Play', 'Indie', 'Simulatio...   \n",
       "3                      ['Action', 'Adventure', 'Casual']   \n",
       "4                                                No data   \n",
       "...                                                  ...   \n",
       "32127      ['Casual', 'Indie', 'Simulation', 'Strategy']   \n",
       "32128                    ['Casual', 'Indie', 'Strategy']   \n",
       "32129                  ['Indie', 'Racing', 'Simulation']   \n",
       "32130                                ['Casual', 'Indie']   \n",
       "32131                                            No data   \n",
       "\n",
       "                                                    tags  \\\n",
       "0      ['Strategy', 'Action', 'Indie', 'Casual', 'Sim...   \n",
       "1      ['Free to Play', 'Strategy', 'Indie', 'RPG', '...   \n",
       "2      ['Free to Play', 'Simulation', 'Sports', 'Casu...   \n",
       "3                      ['Action', 'Adventure', 'Casual']   \n",
       "4                ['Action', 'Indie', 'Casual', 'Sports']   \n",
       "...                                                  ...   \n",
       "32127      ['Strategy', 'Indie', 'Casual', 'Simulation']   \n",
       "32128                    ['Strategy', 'Indie', 'Casual']   \n",
       "32129                  ['Indie', 'Simulation', 'Racing']   \n",
       "32130  ['Indie', 'Casual', 'Puzzle', 'Singleplayer', ...   \n",
       "32131  ['Early Access', 'Adventure', 'Indie', 'Action...   \n",
       "\n",
       "                                                   specs  \\\n",
       "0                                      ['Single-player']   \n",
       "1      ['Single-player', 'Multi-player', 'Online Mult...   \n",
       "2      ['Single-player', 'Multi-player', 'Online Mult...   \n",
       "3                                      ['Single-player']   \n",
       "4      ['Single-player', 'Full controller support', '...   \n",
       "...                                                  ...   \n",
       "32127            ['Single-player', 'Steam Achievements']   \n",
       "32128  ['Single-player', 'Steam Achievements', 'Steam...   \n",
       "32129  ['Single-player', 'Steam Achievements', 'Steam...   \n",
       "32130  ['Single-player', 'Steam Achievements', 'Steam...   \n",
       "32131  ['Single-player', 'Stats', 'Steam Leaderboards...   \n",
       "\n",
       "                      developer  price  early_access  \n",
       "0                     Kotoshiro   4.99         False  \n",
       "1              Secret Level SRL   0.00         False  \n",
       "2                  Poolians.com   0.00         False  \n",
       "3                          彼岸领域   0.99         False  \n",
       "4                       No data   2.99         False  \n",
       "...                         ...    ...           ...  \n",
       "32127        Nikita \"Ghost_RUS\"   1.99         False  \n",
       "32128                    Sacada   4.99         False  \n",
       "32129  Laush Dmitriy Sergeevich   1.99         False  \n",
       "32130             xropi,stev3ns   4.99         False  \n",
       "32131                   No data   4.99          True  \n",
       "\n",
       "[32132 rows x 7 columns]"
      ]
     },
     "execution_count": 3,
     "metadata": {},
     "output_type": "execute_result"
    }
   ],
   "source": [
    "selected_cols = ['app_name', 'genres', 'tags', 'specs', 'developer', 'price', 'early_access']\n",
    "df = df[selected_cols]\n",
    "df"
   ]
  },
  {
   "cell_type": "code",
   "execution_count": 4,
   "metadata": {},
   "outputs": [
    {
     "data": {
      "text/html": [
       "<div>\n",
       "<style scoped>\n",
       "    .dataframe tbody tr th:only-of-type {\n",
       "        vertical-align: middle;\n",
       "    }\n",
       "\n",
       "    .dataframe tbody tr th {\n",
       "        vertical-align: top;\n",
       "    }\n",
       "\n",
       "    .dataframe thead th {\n",
       "        text-align: right;\n",
       "    }\n",
       "</style>\n",
       "<table border=\"1\" class=\"dataframe\">\n",
       "  <thead>\n",
       "    <tr style=\"text-align: right;\">\n",
       "      <th></th>\n",
       "      <th>app_name</th>\n",
       "      <th>genres</th>\n",
       "      <th>tags</th>\n",
       "      <th>specs</th>\n",
       "      <th>developer</th>\n",
       "      <th>price</th>\n",
       "      <th>early_access</th>\n",
       "    </tr>\n",
       "  </thead>\n",
       "  <tbody>\n",
       "    <tr>\n",
       "      <th>0</th>\n",
       "      <td>Lost Summoner Kitty</td>\n",
       "      <td>Action  Casual  Indie  Simulation  Strategy</td>\n",
       "      <td>Strategy  Action  Indie  Casual  Simulation</td>\n",
       "      <td>Single-player</td>\n",
       "      <td>Kotoshiro</td>\n",
       "      <td>4.99</td>\n",
       "      <td>0</td>\n",
       "    </tr>\n",
       "    <tr>\n",
       "      <th>1</th>\n",
       "      <td>Ironbound</td>\n",
       "      <td>Free to Play  Indie  RPG  Strategy</td>\n",
       "      <td>Free to Play  Strategy  Indie  RPG  Card Game ...</td>\n",
       "      <td>Single-player  Multi-player  Online Multi-Play...</td>\n",
       "      <td>Secret Level SRL</td>\n",
       "      <td>0.00</td>\n",
       "      <td>0</td>\n",
       "    </tr>\n",
       "    <tr>\n",
       "      <th>2</th>\n",
       "      <td>Real Pool 3D - Poolians</td>\n",
       "      <td>Casual  Free to Play  Indie  Simulation  Sports</td>\n",
       "      <td>Free to Play  Simulation  Sports  Casual  Indi...</td>\n",
       "      <td>Single-player  Multi-player  Online Multi-Play...</td>\n",
       "      <td>Poolians.com</td>\n",
       "      <td>0.00</td>\n",
       "      <td>0</td>\n",
       "    </tr>\n",
       "    <tr>\n",
       "      <th>3</th>\n",
       "      <td>弹炸人2222</td>\n",
       "      <td>Action  Adventure  Casual</td>\n",
       "      <td>Action  Adventure  Casual</td>\n",
       "      <td>Single-player</td>\n",
       "      <td>彼岸领域</td>\n",
       "      <td>0.99</td>\n",
       "      <td>0</td>\n",
       "    </tr>\n",
       "    <tr>\n",
       "      <th>4</th>\n",
       "      <td>Log Challenge</td>\n",
       "      <td>No data</td>\n",
       "      <td>Action  Indie  Casual  Sports</td>\n",
       "      <td>Single-player  Full controller support  HTC Vi...</td>\n",
       "      <td>No data</td>\n",
       "      <td>2.99</td>\n",
       "      <td>0</td>\n",
       "    </tr>\n",
       "    <tr>\n",
       "      <th>...</th>\n",
       "      <td>...</td>\n",
       "      <td>...</td>\n",
       "      <td>...</td>\n",
       "      <td>...</td>\n",
       "      <td>...</td>\n",
       "      <td>...</td>\n",
       "      <td>...</td>\n",
       "    </tr>\n",
       "    <tr>\n",
       "      <th>32127</th>\n",
       "      <td>Colony On Mars</td>\n",
       "      <td>Casual  Indie  Simulation  Strategy</td>\n",
       "      <td>Strategy  Indie  Casual  Simulation</td>\n",
       "      <td>Single-player  Steam Achievements</td>\n",
       "      <td>Nikita \"Ghost_RUS\"</td>\n",
       "      <td>1.99</td>\n",
       "      <td>0</td>\n",
       "    </tr>\n",
       "    <tr>\n",
       "      <th>32128</th>\n",
       "      <td>LOGistICAL: South Africa</td>\n",
       "      <td>Casual  Indie  Strategy</td>\n",
       "      <td>Strategy  Indie  Casual</td>\n",
       "      <td>Single-player  Steam Achievements  Steam Cloud...</td>\n",
       "      <td>Sacada</td>\n",
       "      <td>4.99</td>\n",
       "      <td>0</td>\n",
       "    </tr>\n",
       "    <tr>\n",
       "      <th>32129</th>\n",
       "      <td>Russian Roads</td>\n",
       "      <td>Indie  Racing  Simulation</td>\n",
       "      <td>Indie  Simulation  Racing</td>\n",
       "      <td>Single-player  Steam Achievements  Steam Tradi...</td>\n",
       "      <td>Laush Dmitriy Sergeevich</td>\n",
       "      <td>1.99</td>\n",
       "      <td>0</td>\n",
       "    </tr>\n",
       "    <tr>\n",
       "      <th>32130</th>\n",
       "      <td>EXIT 2 - Directions</td>\n",
       "      <td>Casual  Indie</td>\n",
       "      <td>Indie  Casual  Puzzle  Singleplayer  Atmospher...</td>\n",
       "      <td>Single-player  Steam Achievements  Steam Cloud</td>\n",
       "      <td>xropi,stev3ns</td>\n",
       "      <td>4.99</td>\n",
       "      <td>0</td>\n",
       "    </tr>\n",
       "    <tr>\n",
       "      <th>32131</th>\n",
       "      <td>Maze Run VR</td>\n",
       "      <td>No data</td>\n",
       "      <td>Early Access  Adventure  Indie  Action  Simula...</td>\n",
       "      <td>Single-player  Stats  Steam Leaderboards  HTC ...</td>\n",
       "      <td>No data</td>\n",
       "      <td>4.99</td>\n",
       "      <td>1</td>\n",
       "    </tr>\n",
       "  </tbody>\n",
       "</table>\n",
       "<p>32132 rows × 7 columns</p>\n",
       "</div>"
      ],
      "text/plain": [
       "                       app_name  \\\n",
       "0           Lost Summoner Kitty   \n",
       "1                     Ironbound   \n",
       "2       Real Pool 3D - Poolians   \n",
       "3                       弹炸人2222   \n",
       "4                 Log Challenge   \n",
       "...                         ...   \n",
       "32127            Colony On Mars   \n",
       "32128  LOGistICAL: South Africa   \n",
       "32129             Russian Roads   \n",
       "32130       EXIT 2 - Directions   \n",
       "32131               Maze Run VR   \n",
       "\n",
       "                                                genres  \\\n",
       "0          Action  Casual  Indie  Simulation  Strategy   \n",
       "1                   Free to Play  Indie  RPG  Strategy   \n",
       "2      Casual  Free to Play  Indie  Simulation  Sports   \n",
       "3                            Action  Adventure  Casual   \n",
       "4                                              No data   \n",
       "...                                                ...   \n",
       "32127              Casual  Indie  Simulation  Strategy   \n",
       "32128                          Casual  Indie  Strategy   \n",
       "32129                        Indie  Racing  Simulation   \n",
       "32130                                    Casual  Indie   \n",
       "32131                                          No data   \n",
       "\n",
       "                                                    tags  \\\n",
       "0            Strategy  Action  Indie  Casual  Simulation   \n",
       "1      Free to Play  Strategy  Indie  RPG  Card Game ...   \n",
       "2      Free to Play  Simulation  Sports  Casual  Indi...   \n",
       "3                              Action  Adventure  Casual   \n",
       "4                          Action  Indie  Casual  Sports   \n",
       "...                                                  ...   \n",
       "32127                Strategy  Indie  Casual  Simulation   \n",
       "32128                            Strategy  Indie  Casual   \n",
       "32129                          Indie  Simulation  Racing   \n",
       "32130  Indie  Casual  Puzzle  Singleplayer  Atmospher...   \n",
       "32131  Early Access  Adventure  Indie  Action  Simula...   \n",
       "\n",
       "                                                   specs  \\\n",
       "0                                          Single-player   \n",
       "1      Single-player  Multi-player  Online Multi-Play...   \n",
       "2      Single-player  Multi-player  Online Multi-Play...   \n",
       "3                                          Single-player   \n",
       "4      Single-player  Full controller support  HTC Vi...   \n",
       "...                                                  ...   \n",
       "32127                  Single-player  Steam Achievements   \n",
       "32128  Single-player  Steam Achievements  Steam Cloud...   \n",
       "32129  Single-player  Steam Achievements  Steam Tradi...   \n",
       "32130     Single-player  Steam Achievements  Steam Cloud   \n",
       "32131  Single-player  Stats  Steam Leaderboards  HTC ...   \n",
       "\n",
       "                      developer  price  early_access  \n",
       "0                     Kotoshiro   4.99             0  \n",
       "1              Secret Level SRL   0.00             0  \n",
       "2                  Poolians.com   0.00             0  \n",
       "3                          彼岸领域   0.99             0  \n",
       "4                       No data   2.99             0  \n",
       "...                         ...    ...           ...  \n",
       "32127        Nikita \"Ghost_RUS\"   1.99             0  \n",
       "32128                    Sacada   4.99             0  \n",
       "32129  Laush Dmitriy Sergeevich   1.99             0  \n",
       "32130             xropi,stev3ns   4.99             0  \n",
       "32131                   No data   4.99             1  \n",
       "\n",
       "[32132 rows x 7 columns]"
      ]
     },
     "execution_count": 4,
     "metadata": {},
     "output_type": "execute_result"
    }
   ],
   "source": [
    "df['genres'] = df['genres'].str.replace(\"'\", \"\").str.strip('[]').str.split(',').apply(lambda x: ' '.join(x))\n",
    "df['tags'] = df['tags'].str.replace(\"'\", \"\").str.strip('[]').str.split(',').apply(lambda x: ' '.join(x))\n",
    "df['specs'] = df['specs'].str.replace(\"'\", \"\").str.strip('[]').str.split(',').apply(lambda x: ' '.join(x))\n",
    "df['early_access'] = df['early_access'].astype(int)\n",
    "df"
   ]
  },
  {
   "cell_type": "code",
   "execution_count": 5,
   "metadata": {},
   "outputs": [],
   "source": [
    "tfidf_vectorizer = TfidfVectorizer(stop_words='english')"
   ]
  },
  {
   "cell_type": "code",
   "execution_count": 6,
   "metadata": {},
   "outputs": [],
   "source": [
    "tfidf_appname = tfidf_vectorizer.fit_transform(df['app_name'])\n",
    "tfidf_appname = tfidf_appname.toarray()\n",
    "\n",
    "tfidf_genres = tfidf_vectorizer.fit_transform(df['genres'])\n",
    "tfidf_genres = tfidf_genres.toarray()\n",
    "\n",
    "tfidf_tags = tfidf_vectorizer.fit_transform(df['tags'])\n",
    "tfidf_tags = tfidf_tags.toarray()\n",
    "\n",
    "tfidf_specs = tfidf_vectorizer.fit_transform(df['specs'])\n",
    "tfidf_specs = tfidf_specs.toarray()\n",
    "\n",
    "tfidf_developer = tfidf_vectorizer.fit_transform(df['developer'])\n",
    "tfidf_developer = tfidf_developer.toarray()\n",
    "\n",
    "numerical_ft = df[['price', 'early_access']].values"
   ]
  },
  {
   "cell_type": "code",
   "execution_count": 7,
   "metadata": {},
   "outputs": [
    {
     "data": {
      "text/plain": [
       "array([[0., 0., 0., ..., 0., 0., 0.],\n",
       "       [0., 0., 0., ..., 0., 0., 0.],\n",
       "       [0., 0., 0., ..., 0., 0., 0.],\n",
       "       ...,\n",
       "       [0., 0., 0., ..., 0., 0., 0.],\n",
       "       [0., 0., 0., ..., 0., 0., 0.],\n",
       "       [0., 0., 0., ..., 0., 0., 0.]])"
      ]
     },
     "execution_count": 7,
     "metadata": {},
     "output_type": "execute_result"
    }
   ],
   "source": [
    "textual_ft = np.hstack((tfidf_appname, tfidf_genres, tfidf_tags, tfidf_specs, tfidf_developer))\n",
    "textual_ft"
   ]
  },
  {
   "cell_type": "code",
   "execution_count": 8,
   "metadata": {},
   "outputs": [
    {
     "data": {
      "text/plain": [
       "(32132, 31266)"
      ]
     },
     "execution_count": 8,
     "metadata": {},
     "output_type": "execute_result"
    }
   ],
   "source": [
    "textual_ft.shape"
   ]
  },
  {
   "cell_type": "code",
   "execution_count": 9,
   "metadata": {},
   "outputs": [
    {
     "name": "stdout",
     "output_type": "stream",
     "text": [
      "(32132, 5)\n"
     ]
    }
   ],
   "source": [
    "svd = TruncatedSVD(n_components=5, random_state=42)\n",
    "reduced_features = svd.fit_transform(textual_ft)\n",
    "\n",
    "# Check the shape of the reduced feature matrix\n",
    "print(reduced_features.shape)"
   ]
  },
  {
   "cell_type": "code",
   "execution_count": 10,
   "metadata": {},
   "outputs": [
    {
     "data": {
      "text/plain": [
       "(32132, 7)"
      ]
     },
     "execution_count": 10,
     "metadata": {},
     "output_type": "execute_result"
    }
   ],
   "source": [
    "combined_ft = np.hstack((reduced_features, numerical_ft))\n",
    "combined_ft.shape"
   ]
  },
  {
   "cell_type": "code",
   "execution_count": 11,
   "metadata": {},
   "outputs": [],
   "source": [
    "cosine_sim = cosine_similarity(combined_ft, combined_ft)"
   ]
  },
  {
   "cell_type": "code",
   "execution_count": 12,
   "metadata": {},
   "outputs": [
    {
     "data": {
      "text/plain": [
       "(32132, 32132)"
      ]
     },
     "execution_count": 12,
     "metadata": {},
     "output_type": "execute_result"
    }
   ],
   "source": [
    "cosine_sim.shape"
   ]
  },
  {
   "cell_type": "code",
   "execution_count": 12,
   "metadata": {},
   "outputs": [],
   "source": [
    "indices = np.argsort(-cosine_sim, axis=1)[:, 1:6]"
   ]
  },
  {
   "cell_type": "code",
   "execution_count": 41,
   "metadata": {},
   "outputs": [
    {
     "data": {
      "text/plain": [
       "(32132, 5)"
      ]
     },
     "execution_count": 41,
     "metadata": {},
     "output_type": "execute_result"
    }
   ],
   "source": [
    "cosine_sim.shape"
   ]
  },
  {
   "cell_type": "code",
   "execution_count": 13,
   "metadata": {},
   "outputs": [
    {
     "data": {
      "text/plain": [
       "array([32024, 32011, 30821, 32114,   222], dtype=int64)"
      ]
     },
     "execution_count": 13,
     "metadata": {},
     "output_type": "execute_result"
    }
   ],
   "source": [
    "indices[32103]"
   ]
  },
  {
   "cell_type": "code",
   "execution_count": 17,
   "metadata": {},
   "outputs": [],
   "source": [
    "np.save('cosine_sim.npy', indices)"
   ]
  },
  {
   "cell_type": "code",
   "execution_count": 21,
   "metadata": {},
   "outputs": [
    {
     "data": {
      "text/plain": [
       "32103"
      ]
     },
     "execution_count": 21,
     "metadata": {},
     "output_type": "execute_result"
    }
   ],
   "source": [
    "idx = df[df['app_name'] == 'Counter-Strike'].index[0]\n",
    "idx"
   ]
  },
  {
   "cell_type": "code",
   "execution_count": 60,
   "metadata": {},
   "outputs": [
    {
     "data": {
      "text/html": [
       "<div>\n",
       "<style scoped>\n",
       "    .dataframe tbody tr th:only-of-type {\n",
       "        vertical-align: middle;\n",
       "    }\n",
       "\n",
       "    .dataframe tbody tr th {\n",
       "        vertical-align: top;\n",
       "    }\n",
       "\n",
       "    .dataframe thead th {\n",
       "        text-align: right;\n",
       "    }\n",
       "</style>\n",
       "<table border=\"1\" class=\"dataframe\">\n",
       "  <thead>\n",
       "    <tr style=\"text-align: right;\">\n",
       "      <th></th>\n",
       "      <th>id</th>\n",
       "      <th>app_name</th>\n",
       "    </tr>\n",
       "  </thead>\n",
       "  <tbody>\n",
       "    <tr>\n",
       "      <th>0</th>\n",
       "      <td>761140</td>\n",
       "      <td>Lost Summoner Kitty</td>\n",
       "    </tr>\n",
       "    <tr>\n",
       "      <th>1</th>\n",
       "      <td>643980</td>\n",
       "      <td>Ironbound</td>\n",
       "    </tr>\n",
       "    <tr>\n",
       "      <th>2</th>\n",
       "      <td>670290</td>\n",
       "      <td>Real Pool 3D - Poolians</td>\n",
       "    </tr>\n",
       "    <tr>\n",
       "      <th>3</th>\n",
       "      <td>767400</td>\n",
       "      <td>弹炸人2222</td>\n",
       "    </tr>\n",
       "    <tr>\n",
       "      <th>4</th>\n",
       "      <td>773570</td>\n",
       "      <td>Log Challenge</td>\n",
       "    </tr>\n",
       "    <tr>\n",
       "      <th>...</th>\n",
       "      <td>...</td>\n",
       "      <td>...</td>\n",
       "    </tr>\n",
       "    <tr>\n",
       "      <th>32127</th>\n",
       "      <td>773640</td>\n",
       "      <td>Colony On Mars</td>\n",
       "    </tr>\n",
       "    <tr>\n",
       "      <th>32128</th>\n",
       "      <td>733530</td>\n",
       "      <td>LOGistICAL: South Africa</td>\n",
       "    </tr>\n",
       "    <tr>\n",
       "      <th>32129</th>\n",
       "      <td>610660</td>\n",
       "      <td>Russian Roads</td>\n",
       "    </tr>\n",
       "    <tr>\n",
       "      <th>32130</th>\n",
       "      <td>658870</td>\n",
       "      <td>EXIT 2 - Directions</td>\n",
       "    </tr>\n",
       "    <tr>\n",
       "      <th>32131</th>\n",
       "      <td>681550</td>\n",
       "      <td>Maze Run VR</td>\n",
       "    </tr>\n",
       "  </tbody>\n",
       "</table>\n",
       "<p>32132 rows × 2 columns</p>\n",
       "</div>"
      ],
      "text/plain": [
       "           id                  app_name\n",
       "0      761140       Lost Summoner Kitty\n",
       "1      643980                 Ironbound\n",
       "2      670290   Real Pool 3D - Poolians\n",
       "3      767400                   弹炸人2222\n",
       "4      773570             Log Challenge\n",
       "...       ...                       ...\n",
       "32127  773640            Colony On Mars\n",
       "32128  733530  LOGistICAL: South Africa\n",
       "32129  610660             Russian Roads\n",
       "32130  658870       EXIT 2 - Directions\n",
       "32131  681550               Maze Run VR\n",
       "\n",
       "[32132 rows x 2 columns]"
      ]
     },
     "execution_count": 60,
     "metadata": {},
     "output_type": "execute_result"
    }
   ],
   "source": [
    "path = 'data/ml-model/df_model.csv'\n",
    "\n",
    "df = pd.read_csv(path)\n",
    "df"
   ]
  },
  {
   "cell_type": "code",
   "execution_count": 37,
   "metadata": {},
   "outputs": [
    {
     "data": {
      "text/html": [
       "<div>\n",
       "<style scoped>\n",
       "    .dataframe tbody tr th:only-of-type {\n",
       "        vertical-align: middle;\n",
       "    }\n",
       "\n",
       "    .dataframe tbody tr th {\n",
       "        vertical-align: top;\n",
       "    }\n",
       "\n",
       "    .dataframe thead th {\n",
       "        text-align: right;\n",
       "    }\n",
       "</style>\n",
       "<table border=\"1\" class=\"dataframe\">\n",
       "  <thead>\n",
       "    <tr style=\"text-align: right;\">\n",
       "      <th></th>\n",
       "      <th>id</th>\n",
       "      <th>app_name</th>\n",
       "    </tr>\n",
       "  </thead>\n",
       "  <tbody>\n",
       "    <tr>\n",
       "      <th>24120</th>\n",
       "      <td>427520</td>\n",
       "      <td>Factorio</td>\n",
       "    </tr>\n",
       "  </tbody>\n",
       "</table>\n",
       "</div>"
      ],
      "text/plain": [
       "           id  app_name\n",
       "24120  427520  Factorio"
      ]
     },
     "execution_count": 37,
     "metadata": {},
     "output_type": "execute_result"
    }
   ],
   "source": [
    "df[df['app_name'] == 'Counter-Stri']"
   ]
  },
  {
   "cell_type": "code",
   "execution_count": 61,
   "metadata": {},
   "outputs": [],
   "source": [
    "def game_recommendation(id: int):\n",
    "\n",
    "    path = 'data/ml-model/cosine_sim.npy'\n",
    "    cosine_sim = np.load(path)\n",
    "\n",
    "    idx = df[df['id'] == id].index[0]\n",
    "    rec_games = df['app_name'].iloc[cosine_sim[idx]]\n",
    "\n",
    "    info = {'recommendations': None}\n",
    "    info['recommendations'] = list(rec_games)\n",
    "\n",
    "    return info"
   ]
  },
  {
   "cell_type": "code",
   "execution_count": 63,
   "metadata": {},
   "outputs": [
    {
     "data": {
      "text/plain": [
       "{'recommendations': ['Half-Life Deathmatch: Source',\n",
       "  'Zombie Panic',\n",
       "  'Cannon Fodder 3',\n",
       "  'Counter-Strike: Condition Zero',\n",
       "  'Zombie Master']}"
      ]
     },
     "execution_count": 63,
     "metadata": {},
     "output_type": "execute_result"
    }
   ],
   "source": [
    "game_recommendation(10)"
   ]
  }
 ],
 "metadata": {
  "kernelspec": {
   "display_name": ".venv",
   "language": "python",
   "name": "python3"
  },
  "language_info": {
   "codemirror_mode": {
    "name": "ipython",
    "version": 3
   },
   "file_extension": ".py",
   "mimetype": "text/x-python",
   "name": "python",
   "nbconvert_exporter": "python",
   "pygments_lexer": "ipython3",
   "version": "3.11.3"
  },
  "orig_nbformat": 4
 },
 "nbformat": 4,
 "nbformat_minor": 2
}
